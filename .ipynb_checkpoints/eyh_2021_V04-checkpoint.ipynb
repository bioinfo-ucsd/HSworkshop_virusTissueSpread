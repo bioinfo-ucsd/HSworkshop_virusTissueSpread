{
 "cells": [
  {
   "cell_type": "markdown",
   "metadata": {
    "toc": true
   },
   "source": [
    "<h1>Table of Contents<span class=\"tocSkip\"></span></h1>\n",
    "<div class=\"toc\"><ul class=\"toc-item\"><li><span><a href=\"#Activity\" data-toc-modified-id=\"Activity-1\"><span class=\"toc-item-num\">1&nbsp;&nbsp;</span>Activity</a></span></li><li><span><a href=\"#Libraries\" data-toc-modified-id=\"Libraries-2\"><span class=\"toc-item-num\">2&nbsp;&nbsp;</span>Libraries</a></span></li><li><span><a href=\"#Setting-up-the-data\" data-toc-modified-id=\"Setting-up-the-data-3\"><span class=\"toc-item-num\">3&nbsp;&nbsp;</span>Setting up the data</a></span></li><li><span><a href=\"#Modeling-changes-to-a-tissue-during-infection\" data-toc-modified-id=\"Modeling-changes-to-a-tissue-during-infection-4\"><span class=\"toc-item-num\">4&nbsp;&nbsp;</span>Modeling changes to a tissue during infection</a></span></li><li><span><a href=\"#See-the-change\" data-toc-modified-id=\"See-the-change-5\"><span class=\"toc-item-num\">5&nbsp;&nbsp;</span>See the change</a></span></li><li><span><a href=\"#How-immune-cells-affect-infection\" data-toc-modified-id=\"How-immune-cells-affect-infection-6\"><span class=\"toc-item-num\">6&nbsp;&nbsp;</span>How immune cells affect infection</a></span></li><li><span><a href=\"#Over-time\" data-toc-modified-id=\"Over-time-7\"><span class=\"toc-item-num\">7&nbsp;&nbsp;</span>Over time</a></span></li><li><span><a href=\"#Plotting\" data-toc-modified-id=\"Plotting-8\"><span class=\"toc-item-num\">8&nbsp;&nbsp;</span>Plotting</a></span></li></ul></div>"
   ]
  },
  {
   "cell_type": "markdown",
   "metadata": {},
   "source": [
    "# Activity"
   ]
  },
  {
   "cell_type": "markdown",
   "metadata": {},
   "source": [
    "    \n",
    "    Imagine a tissue with n x n cells with different states:\n",
    "    \n",
    "    H: Healthy\n",
    "    VA: Viral assembly\n",
    "    VR: Viral release\n",
    "    D: Dead\n",
    "    \n",
    "    INFECT_PROB = probability of infection (i.e. the likelihood of a cell becoming infected)\n",
    "    \n",
    "    "
   ]
  },
  {
   "cell_type": "markdown",
   "metadata": {},
   "source": [
    "# Libraries"
   ]
  },
  {
   "cell_type": "code",
   "execution_count": 2,
   "metadata": {
    "ExecuteTime": {
     "end_time": "2021-02-10T00:05:59.789899Z",
     "start_time": "2021-02-10T00:05:59.785650Z"
    }
   },
   "outputs": [
    {
     "ename": "ModuleNotFoundError",
     "evalue": "No module named 'plotly'",
     "output_type": "error",
     "traceback": [
      "\u001b[1;31m---------------------------------------------------------------------------\u001b[0m",
      "\u001b[1;31mModuleNotFoundError\u001b[0m                       Traceback (most recent call last)",
      "\u001b[1;32m<ipython-input-2-14c352ccdc24>\u001b[0m in \u001b[0;36m<module>\u001b[1;34m()\u001b[0m\n\u001b[0;32m      5\u001b[0m \u001b[1;32mimport\u001b[0m \u001b[0mnumpy\u001b[0m \u001b[1;32mas\u001b[0m \u001b[0mnp\u001b[0m\u001b[1;33m\u001b[0m\u001b[0m\n\u001b[0;32m      6\u001b[0m \u001b[1;32mimport\u001b[0m \u001b[0mrandom\u001b[0m\u001b[1;33m\u001b[0m\u001b[0m\n\u001b[1;32m----> 7\u001b[1;33m \u001b[1;32mimport\u001b[0m \u001b[0mplotly\u001b[0m \u001b[1;32mas\u001b[0m \u001b[0mpy\u001b[0m\u001b[1;33m\u001b[0m\u001b[0m\n\u001b[0m\u001b[0;32m      8\u001b[0m \u001b[1;32mimport\u001b[0m \u001b[0mplotly\u001b[0m\u001b[1;33m.\u001b[0m\u001b[0mgraph_objs\u001b[0m \u001b[1;32mas\u001b[0m \u001b[0mgo\u001b[0m\u001b[1;33m\u001b[0m\u001b[0m\n",
      "\u001b[1;31mModuleNotFoundError\u001b[0m: No module named 'plotly'"
     ]
    }
   ],
   "source": [
    "#Importing libraries: computer code 'cookbooks'\n",
    "\n",
    "import matplotlib.pyplot\n",
    "import pandas as pd\n",
    "import numpy as np\n",
    "import random\n",
    "import plotly as py\n",
    "import plotly.graph_objs as go"
   ]
  },
  {
   "cell_type": "markdown",
   "metadata": {},
   "source": [
    "# Setting up the data"
   ]
  },
  {
   "cell_type": "code",
   "execution_count": 4,
   "metadata": {
    "ExecuteTime": {
     "end_time": "2021-02-10T00:19:43.866568Z",
     "start_time": "2021-02-10T00:19:43.856067Z"
    }
   },
   "outputs": [
    {
     "name": "stdout",
     "output_type": "stream",
     "text": [
      "# starting infected cells: 5\n"
     ]
    },
    {
     "data": {
      "text/plain": [
       "{(0, 4), (2, 1), (2, 3), (3, 1), (3, 4)}"
      ]
     },
     "execution_count": 4,
     "metadata": {},
     "output_type": "execute_result"
    }
   ],
   "source": [
    "INFECT_PROB = 0.5 \n",
    "\n",
    "n = 5 # size of tissue\n",
    "tissue = pd.DataFrame(\"H\", index = range(n), columns = range(n)) # write empty data table\n",
    "\n",
    "\n",
    "\n",
    "max_starting_infected = 5 # you choose maximum number of starting infected cells\n",
    "n_starting_infected = random.randint(0, max_starting_infected) # random number generated for of starting number infected cells\n",
    "\n",
    "\n",
    "\n",
    "# choose (x,y) where to place the infected cells in tissue\n",
    "points = set()\n",
    "while len(points) < n_starting_infected:\n",
    "    points.add((random.randint(0, n-1), random.randint(0, n-1))) \n",
    "\n",
    "    \n",
    "    \n",
    "# set these points to \"VR\" for \"infected\"\n",
    "for point in points:\n",
    "    tissue.iloc[point[0], point[1]] = \"VR\"\n",
    "    \n",
    "print(\"# starting infected cells: {}\".format(n_starting_infected))\n",
    "\n",
    "points"
   ]
  },
  {
   "cell_type": "code",
   "execution_count": 5,
   "metadata": {},
   "outputs": [
    {
     "data": {
      "text/html": [
       "<div>\n",
       "<style scoped>\n",
       "    .dataframe tbody tr th:only-of-type {\n",
       "        vertical-align: middle;\n",
       "    }\n",
       "\n",
       "    .dataframe tbody tr th {\n",
       "        vertical-align: top;\n",
       "    }\n",
       "\n",
       "    .dataframe thead th {\n",
       "        text-align: right;\n",
       "    }\n",
       "</style>\n",
       "<table border=\"1\" class=\"dataframe\">\n",
       "  <thead>\n",
       "    <tr style=\"text-align: right;\">\n",
       "      <th></th>\n",
       "      <th>0</th>\n",
       "      <th>1</th>\n",
       "      <th>2</th>\n",
       "      <th>3</th>\n",
       "      <th>4</th>\n",
       "    </tr>\n",
       "  </thead>\n",
       "  <tbody>\n",
       "    <tr>\n",
       "      <th>0</th>\n",
       "      <td>H</td>\n",
       "      <td>H</td>\n",
       "      <td>H</td>\n",
       "      <td>H</td>\n",
       "      <td>VR</td>\n",
       "    </tr>\n",
       "    <tr>\n",
       "      <th>1</th>\n",
       "      <td>H</td>\n",
       "      <td>H</td>\n",
       "      <td>H</td>\n",
       "      <td>H</td>\n",
       "      <td>H</td>\n",
       "    </tr>\n",
       "    <tr>\n",
       "      <th>2</th>\n",
       "      <td>H</td>\n",
       "      <td>VR</td>\n",
       "      <td>H</td>\n",
       "      <td>VR</td>\n",
       "      <td>H</td>\n",
       "    </tr>\n",
       "    <tr>\n",
       "      <th>3</th>\n",
       "      <td>H</td>\n",
       "      <td>VR</td>\n",
       "      <td>H</td>\n",
       "      <td>H</td>\n",
       "      <td>VR</td>\n",
       "    </tr>\n",
       "    <tr>\n",
       "      <th>4</th>\n",
       "      <td>H</td>\n",
       "      <td>H</td>\n",
       "      <td>H</td>\n",
       "      <td>H</td>\n",
       "      <td>H</td>\n",
       "    </tr>\n",
       "  </tbody>\n",
       "</table>\n",
       "</div>"
      ],
      "text/plain": [
       "   0   1  2   3   4\n",
       "0  H   H  H   H  VR\n",
       "1  H   H  H   H   H\n",
       "2  H  VR  H  VR   H\n",
       "3  H  VR  H   H  VR\n",
       "4  H   H  H   H   H"
      ]
     },
     "execution_count": 5,
     "metadata": {},
     "output_type": "execute_result"
    }
   ],
   "source": [
    "tissue"
   ]
  },
  {
   "cell_type": "markdown",
   "metadata": {},
   "source": [
    "# Modeling changes to a tissue during infection"
   ]
  },
  {
   "cell_type": "markdown",
   "metadata": {},
   "source": [
    "    Next stages for:\n",
    "    \n",
    "        Healthy cell: \n",
    "            If adjacent to cells releasing viruses (i.e. \"VR\"), give a random probability between 0 and 1.\n",
    "            If probability <= INFECT_PROB, healthy cell is infected and becomes H -> VA\n",
    "            \n",
    "        Viral assembly:\n",
    "            Release of viruses (i.e. VA -> VR)\n",
    "            \n",
    "        Viral release:\n",
    "            Dies (i.e. VR -> D)\n",
    "            \n",
    "        Dead cell:\n",
    "            No change\n",
    "            \n",
    "            "
   ]
  },
  {
   "cell_type": "code",
   "execution_count": 6,
   "metadata": {
    "ExecuteTime": {
     "end_time": "2021-02-10T00:19:45.486107Z",
     "start_time": "2021-02-10T00:19:45.468284Z"
    }
   },
   "outputs": [],
   "source": [
    "def one_time_step(tissue, infect_prob):                      #Q2: how many times does this run\n",
    "    \n",
    "    updated_tissue = tissue.copy()\n",
    "    for row in range(n):\n",
    "        for col in range(n):\n",
    "\n",
    "            # make changes to healthy cell\n",
    "            if tissue.iloc[row, col] == \"H\":\n",
    "                if row != n-1:\n",
    "                    if tissue.iloc[row+1,col] == \"VR\":\n",
    "                        if random.random() < infect_prob:\n",
    "                            updated_tissue.iloc[row,col] = \"VA\"\n",
    "\n",
    "                if col != n-1:       \n",
    "                    if tissue.iloc[row,col+1] == \"VR\":\n",
    "                        if random.random() < infect_prob:\n",
    "                            updated_tissue.iloc[row,col] = \"VA\"\n",
    "\n",
    "                if row != 0:\n",
    "                    if tissue.iloc[row-1,col] == \"VR\":\n",
    "                        if random.random() < infect_prob:\n",
    "                            updated_tissue.iloc[row,col] = \"VA\"\n",
    "\n",
    "                if col != 0:\n",
    "                    if tissue.iloc[row,col-1] == \"VR\":\n",
    "                        if random.random() < infect_prob:\n",
    "                            updated_tissue.iloc[row,col] = \"VA\"\n",
    "\n",
    "            # make changes to newly infected cell\n",
    "            if tissue.iloc[row, col] == \"VA\":\n",
    "                updated_tissue.iloc[row, col] = \"VR\"\n",
    "            \n",
    "            # make changes to infectious cell \n",
    "            if tissue.iloc[row, col] == \"VR\":\n",
    "                updated_tissue.iloc[row, col] = \"D\"\n",
    "    \n",
    "            # make changes to dead cell\n",
    "            if tissue.iloc[row, col] == \"D\":\n",
    "                updated_tissue.iloc[row, col] = \"D\" \n",
    "                \n",
    "    return(updated_tissue)\n",
    "            \n",
    "def t_time_step(t, tissue, infect_prob):                    #Q2 When you call this function how many times does above run\n",
    "    \n",
    "    out = []\n",
    "    out.append(tissue.values)\n",
    "    \n",
    "    updated_tissue = tissue.copy()\n",
    "    for step in range(t):\n",
    "        updated_tissue = one_time_step(updated_tissue, infect_prob)\n",
    "        out.append(updated_tissue.values)\n",
    "        \n",
    "    return(out)\n",
    "        \n"
   ]
  },
  {
   "cell_type": "markdown",
   "metadata": {},
   "source": [
    "# Run simulation and visualize"
   ]
  },
  {
   "cell_type": "code",
   "execution_count": 64,
   "metadata": {
    "ExecuteTime": {
     "end_time": "2021-02-10T00:19:43.866568Z",
     "start_time": "2021-02-10T00:19:43.856067Z"
    }
   },
   "outputs": [
    {
     "name": "stdout",
     "output_type": "stream",
     "text": [
      "# starting infected cells: 3\n"
     ]
    },
    {
     "data": {
      "text/plain": [
       "{(3, 24), (7, 29), (9, 27)}"
      ]
     },
     "execution_count": 64,
     "metadata": {},
     "output_type": "execute_result"
    }
   ],
   "source": [
    "#TODO: CHANGE PARAMETERS HERE\n",
    "INFECT_PROB = 0.5                                                  # Probality VR cell next to H cell infects it: Q4a\n",
    "n = 30                                                             # size of tissue\n",
    "max_starting_infected = 5                                          # choose maximum number of starting infected cells\n",
    "n_time_steps = 20                                                  # choose number of steps in movie\n",
    "\n",
    "\n",
    "\n",
    "#Set up tissue based on paramters above\n",
    "\n",
    "tissue = pd.DataFrame(\"H\", index = range(n), columns = range(n)) # write empty data table\n",
    "n_starting_infected = random.randint(0, max_starting_infected)   # choose random number of starting infected cells\n",
    "\n",
    "\n",
    "points = set()\n",
    "while len(points) < n_starting_infected:   \n",
    "    points.add((random.randint(0, n-1), random.randint(0, n-1)))# (x,y) where to place the infected cells in tissue\n",
    "\n",
    "\n",
    "for point in points:                                            # set these points to \"VR\" for relasing virus \n",
    "    tissue.iloc[point[0], point[1]] = \"VR\"\n",
    "    \n",
    "print(\"# starting infected cells: {}\".format(n_starting_infected))\n",
    "\n",
    "\n",
    "\n",
    "\n",
    "# Run the simulation for n_time_steps\n",
    "tissue_frames = t_time_step(n_time_steps, tissue, infect_prob = INFECT_PROB) "
   ]
  },
  {
   "cell_type": "code",
   "execution_count": 73,
   "metadata": {},
   "outputs": [
    {
     "ename": "NameError",
     "evalue": "name 'go' is not defined",
     "output_type": "error",
     "traceback": [
      "\u001b[1;31m---------------------------------------------------------------------------\u001b[0m",
      "\u001b[1;31mNameError\u001b[0m                                 Traceback (most recent call last)",
      "\u001b[1;32m<ipython-input-73-e9a2577bd5db>\u001b[0m in \u001b[0;36m<module>\u001b[1;34m()\u001b[0m\n\u001b[0;32m     25\u001b[0m             \u001b[0mtissue_frames_numeric\u001b[0m\u001b[1;33m[\u001b[0m\u001b[0mt\u001b[0m\u001b[1;33m]\u001b[0m\u001b[1;33m[\u001b[0m\u001b[0mi\u001b[0m\u001b[1;33m]\u001b[0m\u001b[1;33m[\u001b[0m\u001b[0mj\u001b[0m\u001b[1;33m]\u001b[0m \u001b[1;33m=\u001b[0m \u001b[0mnumerify\u001b[0m\u001b[1;33m[\u001b[0m\u001b[0mtissue_frames\u001b[0m\u001b[1;33m[\u001b[0m\u001b[0mt\u001b[0m\u001b[1;33m]\u001b[0m\u001b[1;33m[\u001b[0m\u001b[0mi\u001b[0m\u001b[1;33m]\u001b[0m\u001b[1;33m[\u001b[0m\u001b[0mj\u001b[0m\u001b[1;33m]\u001b[0m\u001b[1;33m]\u001b[0m\u001b[1;33m\u001b[0m\u001b[0m\n\u001b[0;32m     26\u001b[0m \u001b[1;33m\u001b[0m\u001b[0m\n\u001b[1;32m---> 27\u001b[1;33m fig = go.Figure(data=go.Heatmap(z=tissue_frames_numeric[0], colorscale=legend_colors, colorbar=dict(tickvals=numbers, ticktext=names, thickness=25)),\n\u001b[0m\u001b[0;32m     28\u001b[0m                frames=[go.Frame(data=go.Heatmap(z=tissue_frames_numeric[i])) for i in range(len(tissue_frames_numeric))])\n\u001b[0;32m     29\u001b[0m fig.update_layout(\n",
      "\u001b[1;31mNameError\u001b[0m: name 'go' is not defined"
     ]
    }
   ],
   "source": [
    "#Plot simulation - do not worry about what is happening in code here, just what movie it makes\n",
    "numerify = {'H': 0, 'VA': 0.25, 'VR': 0.5, 'D': 0.75}\n",
    "\n",
    "legend_colors = [\n",
    "    [0, \"rgb(0, 158, 115)\"],\n",
    "    [0.25,  \"rgb(0, 158, 115)\"],\n",
    "    [0.25, \"rgb(230, 158, 0)\"],\n",
    "    [0.5, \"rgb(230, 158, 0)\"],\n",
    "    [0.5, \"rgb(213, 94, 0)\"],\n",
    "    [0.75, \"rgb(213, 94, 0)\"],\n",
    "    [0.75, \"rgb(0, 0, 0)\"],\n",
    "    [1.0, \"rgb(0, 0, 0)\"]\n",
    "]\n",
    "\n",
    "\n",
    "numbers = [0, 0.25, 0.5, 0.75]\n",
    "names   = ['Healthy', 'Viral Assembly', 'Viral Release', 'Dead']\n",
    "\n",
    "\n",
    "# Numerify the cells for plotting\n",
    "tissue_frames_numeric = []\n",
    "for t in range(len(tissue_frames)):\n",
    "    tissue_frames_numeric.append(tissue_frames[t].copy())\n",
    "    for i in range(tissue_frames[t].shape[0]):\n",
    "        for j in range(tissue_frames[t].shape[1]):\n",
    "            tissue_frames_numeric[t][i][j] = numerify[tissue_frames[t][i][j]]\n",
    "            \n",
    "fig = go.Figure(data=go.Heatmap(z=tissue_frames_numeric[0], colorscale=legend_colors, colorbar=dict(tickvals=numbers, ticktext=names, thickness=25)),\n",
    "               frames=[go.Frame(data=go.Heatmap(z=tissue_frames_numeric[i])) for i in range(len(tissue_frames_numeric))])\n",
    "fig.update_layout(\n",
    "    updatemenus=[\n",
    "        dict(type=\"buttons\", visible=True,\n",
    "        buttons=[dict(label=\"Play\", method=\"animate\", args=[None])]\n",
    "            )])\n",
    "fig.show()"
   ]
  },
  {
   "cell_type": "markdown",
   "metadata": {},
   "source": [
    "# How immune cells affect infection"
   ]
  },
  {
   "cell_type": "markdown",
   "metadata": {},
   "source": [
    "Add immune system idea \n",
    "- First stage infected cells are killed before infecting others with some probability\n",
    "- Autophagy turns 1s and 2s into 3s\n",
    "- Add an immune cell state that can potentially move (randomly)\n",
    "- Have infectious process separate from immune cells\n",
    "\n",
    "Probability associated with number of starting infected cells"
   ]
  },
  {
   "cell_type": "markdown",
   "metadata": {},
   "source": [
    "healthy, infectious, newly infected"
   ]
  },
  {
   "cell_type": "code",
   "execution_count": 46,
   "metadata": {
    "ExecuteTime": {
     "end_time": "2021-02-10T00:32:31.250349Z",
     "start_time": "2021-02-10T00:32:31.245493Z"
    }
   },
   "outputs": [
    {
     "name": "stdout",
     "output_type": "stream",
     "text": [
      "# starting infected cells: 4\n"
     ]
    }
   ],
   "source": [
    "n = 10                                 # size of tissue\n",
    "max_starting_infected = 5              # maximum number of starting infected cells \n",
    "n_immune_starting = 4                  # number of immune cells starting in tissue *** new ***\n",
    "n_immune_recruited  = 2                # set number of immune cells recruited at first/each contact *** new ***\n",
    "INFECT_PROB = 0.8                      # Probablity healthy cell will be infected by a VR cell if next to it\n",
    "\n",
    "tissue = pd.DataFrame('H', index = range(n), columns = range(n))\n",
    "n_starting_infected = random.randint(0, max_starting_infected) # choose number of starting infected cells\n",
    "print(\"# starting infected cells: {}\".format(n_starting_infected))\n",
    "\n",
    "\n",
    "# Add infected cells\n",
    "infected_points = set()\n",
    "while len(infected_points) < n_starting_infected:\n",
    "    infected_points.add((random.randint(0, n-1), random.randint(0, n-1)))\n",
    "for point in infected_points:\n",
    "    tissue.iloc[point[0], point[1]] = 'VR'\n",
    "    \n",
    "infected_points\n",
    "\n",
    "\n",
    "# Add single immune cell *** new ***\n",
    "immune_cell = (random.randint(0, n-1), random.randint(0, n-1))\n",
    "tissue.iloc[immune_cell[0], immune_cell[1]] = 'I'\n",
    "print(immune_cell)"
   ]
  },
  {
   "cell_type": "code",
   "execution_count": 51,
   "metadata": {
    "ExecuteTime": {
     "end_time": "2021-02-10T00:32:33.167563Z",
     "start_time": "2021-02-10T00:32:33.158343Z"
    }
   },
   "outputs": [],
   "source": [
    "#*** new ***\n",
    "def immune_time_step(tissue):\n",
    "    updated_tissue = tissue.copy()\n",
    "    foundInfection = False\n",
    "    for row in range(n):\n",
    "        for col in range(n):\n",
    "            if tissue.iloc[row, col] == 'I':\n",
    "                #eliminate virus infected cells\n",
    "                if row != n-1:\n",
    "                    if tissue.iloc[row+1,col] in ['VA','VR']:\n",
    "                        updated_tissue.iloc[row+1,col] = 'D'\n",
    "                        foundInfection = True\n",
    "\n",
    "                if col != n-1:       \n",
    "                    if tissue.iloc[row,col+1]in ['VA','VR']:\n",
    "                        updated_tissue.iloc[row,col+1] = 'D'\n",
    "                        foundInfection = True\n",
    "\n",
    "                if row != 0:\n",
    "                    if tissue.iloc[row-1,col] in ['VA','VR']:\n",
    "                        updated_tissue.iloc[row-1,col] = 'D'\n",
    "                        foundInfection = True\n",
    "\n",
    "                if col != 0:\n",
    "                    if tissue.iloc[row,col-1] in ['VA','VR']:\n",
    "                        updated_tissue.iloc[row,col-1] = 'D'\n",
    "                        foundInfection = True\n",
    "                \n",
    "                # move immune cell\n",
    "                updated_tissue.iloc[row,col] = \"H\" # healthy cell fills in where immune cell was\n",
    "    \n",
    "                add2row = random.choice([-1, 0, 1]) # choose if immune down, same row, up\n",
    "                add2col = random.choice([-1, 0, 1]) # choose if immune left, same column, right\n",
    "    \n",
    "                if add2row + row < 1:\n",
    "                    add2row = 1\n",
    "                if add2row + row >= n:\n",
    "                    add2row = -1\n",
    "                if add2col + col < 1:\n",
    "                    add2col = 1\n",
    "                if add2col + col >= n:\n",
    "                    add2col = -1\n",
    "                updated_tissue.iloc[add2row + row, add2col + col] = \"I\"\n",
    "                \n",
    "        if foundInfection == True:\n",
    "            inmmune_cells_recruited = set()\n",
    "            while len(inmmune_cells_recruited) < n_immune_recruited:\n",
    "                inmmune_cells_recruited.add((random.randint(0, n-1), random.randint(0, n-1)))\n",
    "            for point in inmmune_cells_recruited:\n",
    "                updated_tissue.iloc[point[0], point[1]] = 'I'\n",
    "            \n",
    "    \n",
    "    return(updated_tissue)"
   ]
  },
  {
   "cell_type": "code",
   "execution_count": 74,
   "metadata": {
    "ExecuteTime": {
     "end_time": "2021-02-10T00:32:33.666719Z",
     "start_time": "2021-02-10T00:32:33.661108Z"
    }
   },
   "outputs": [],
   "source": [
    "def t_time_step(t, tissue, infect_prob):\n",
    "    \n",
    "    out = []\n",
    "    \n",
    "    out.append(tissue.values)\n",
    "    \n",
    "    updated_tissue = tissue.copy()\n",
    "    for step in range(t):\n",
    "        updated_tissue = immune_time_step(updated_tissue)             #immune cells move and look for virus *** new ***\n",
    "        updated_tissue = one_time_step(updated_tissue, infect_prob)   #virus infects and kills cells as before\n",
    "        out.append(updated_tissue.values)\n",
    "        \n",
    "    return(out)\n",
    "        \n",
    "\n",
    "# if there is a any cell that is infectious, then there is some probability that it becomes infeccted (50%)"
   ]
  },
  {
   "cell_type": "markdown",
   "metadata": {},
   "source": [
    "# Plot infection with immune system over time"
   ]
  },
  {
   "cell_type": "code",
   "execution_count": 79,
   "metadata": {
    "ExecuteTime": {
     "end_time": "2021-02-10T00:32:31.250349Z",
     "start_time": "2021-02-10T00:32:31.245493Z"
    }
   },
   "outputs": [
    {
     "name": "stdout",
     "output_type": "stream",
     "text": [
      "# starting infected cells: 2\n",
      "Immune cells {(9, 0), (2, 6), (4, 7), (9, 1), (2, 4)}\n"
     ]
    }
   ],
   "source": [
    "#TODO: CHANGE PARAMETERS HERE\n",
    "\n",
    "n = 30                     # size of tissue\n",
    "max_starting_infected = 5  # maximum number of starting infected cells\n",
    "n_immune_starting = 4      # number of immune cells starting in tissue\n",
    "n_immune_recruited  = 1    # set number of immune cells recruited at first/each contact      Q7 - change here\n",
    "INFECT_PROB = 0.75         # infection probablity\n",
    "n_time_steps = 30\n",
    "\n",
    "\n",
    "#Set up tissue based on paramters above\n",
    "\n",
    "tissue = pd.DataFrame('H', index = range(n), columns = range(n))\n",
    "\n",
    "# Add infected cells\n",
    "n_starting_infected = random.randint(0, max_starting_infected) # choose number of starting infected cells\n",
    "\n",
    "infected_points = set()\n",
    "while len(infected_points) < n_starting_infected:\n",
    "    infected_points.add((random.randint(0, n-1), random.randint(0, n-1)))\n",
    "for point in infected_points:\n",
    "    tissue.iloc[point[0], point[1]] = 'VR'\n",
    "    \n",
    "print(\"Starting infected cells: {}\".format(n_starting_infected))\n",
    "    \n",
    "\n",
    "# Add n_immune_starting immune cells\n",
    "immue_cell_points = set()\n",
    "\n",
    "while len(immue_cell_points) < n_immune_starting:\n",
    "    immue_cell_points.add((random.randint(0, n-1), random.randint(0, n-1)))\n",
    "    \n",
    "for point in immue_cell_points:\n",
    "    tissue.iloc[point[0], point[1]] = 'I'\n",
    "    \n",
    "print(\"Immune cells\", immue_cell_points)\n",
    "\n",
    "\n",
    "\n",
    "#Run simulation\n",
    "tissue_frames = t_time_step(n_time_steps, tissue, infect_prob = INFECT_PROB) "
   ]
  },
  {
   "cell_type": "code",
   "execution_count": 77,
   "metadata": {
    "ExecuteTime": {
     "end_time": "2021-02-10T00:32:37.654211Z",
     "start_time": "2021-02-10T00:32:37.643430Z"
    }
   },
   "outputs": [
    {
     "ename": "NameError",
     "evalue": "name 'go' is not defined",
     "output_type": "error",
     "traceback": [
      "\u001b[1;31m---------------------------------------------------------------------------\u001b[0m",
      "\u001b[1;31mNameError\u001b[0m                                 Traceback (most recent call last)",
      "\u001b[1;32m<ipython-input-77-93de6beaa52b>\u001b[0m in \u001b[0;36m<module>\u001b[1;34m()\u001b[0m\n\u001b[0;32m     29\u001b[0m \u001b[1;33m\u001b[0m\u001b[0m\n\u001b[0;32m     30\u001b[0m \u001b[1;33m\u001b[0m\u001b[0m\n\u001b[1;32m---> 31\u001b[1;33m fig = go.Figure(data=go.Heatmap(z=tissue_frames_numeric[0], colorscale=legend_colors, colorbar=dict(tickvals=numbers, ticktext=names, thickness=25)),\n\u001b[0m\u001b[0;32m     32\u001b[0m                frames=[go.Frame(data=go.Heatmap(z=tissue_frames_numeric[i])) for i in range(len(tissue_frames_numeric))])\n\u001b[0;32m     33\u001b[0m fig.update_layout(\n",
      "\u001b[1;31mNameError\u001b[0m: name 'go' is not defined"
     ]
    }
   ],
   "source": [
    "#Plot simulation - do not worry about what is happening in code here, just what movie it makes\n",
    "numerify = {'H': 0, 'VA': 0.2, 'VR': 0.4, 'D': 0.6, 'I': 0.8}\n",
    "\n",
    "tissue_frames_numeric = []\n",
    "for t in range(len(tissue_frames)):\n",
    "    tissue_frames_numeric.append(tissue_frames[t].copy())\n",
    "    for i in range(tissue_frames[t].shape[0]):\n",
    "        for j in range(tissue_frames[t].shape[1]):\n",
    "            tmp = numerify[tissue_frames[t][i][j]]\n",
    "            tissue_frames_numeric[t][i][j] = tmp\n",
    "            \n",
    "            \n",
    "legend_colors = [\n",
    "    [0, \"rgb(0, 158, 115)\"],\n",
    "    [0.2,  \"rgb(0, 158, 115)\"],\n",
    "    [0.2, \"rgb(230, 158, 0)\"],\n",
    "    [0.4, \"rgb(230, 158, 0)\"],\n",
    "    [0.4, \"rgb(213, 94, 0)\"],\n",
    "    [0.6, \"rgb(213, 94, 0)\"],\n",
    "    [0.6, \"rgb(0, 0, 0)\"],\n",
    "    [0.8, \"rgb(0, 0, 0)\"],\n",
    "    [0.8, \"rgb(204, 121, 167)\"],\n",
    "    [1.0, \"rgb(204, 121, 167)\"]\n",
    "]\n",
    "\n",
    "\n",
    "numbers = [0, 0.2, 0.4, 0.6, 0.8]\n",
    "names = ['Healthy', 'Viral Assembly', 'Viral Release', 'Dead', 'Immune']\n",
    "\n",
    "\n",
    "fig = go.Figure(data=go.Heatmap(z=tissue_frames_numeric[0], colorscale=legend_colors, colorbar=dict(tickvals=numbers, ticktext=names, thickness=25)),\n",
    "               frames=[go.Frame(data=go.Heatmap(z=tissue_frames_numeric[i])) for i in range(len(tissue_frames_numeric))])\n",
    "fig.update_layout(\n",
    "    updatemenus=[\n",
    "        dict(type=\"buttons\", visible=True,\n",
    "        buttons=[dict(label=\"Play\", method=\"animate\", args=[None])]\n",
    "            )])\n",
    "fig.show()"
   ]
  },
  {
   "cell_type": "code",
   "execution_count": null,
   "metadata": {},
   "outputs": [],
   "source": []
  }
 ],
 "metadata": {
  "kernelspec": {
   "display_name": "Python 3",
   "language": "python",
   "name": "python3"
  },
  "language_info": {
   "codemirror_mode": {
    "name": "ipython",
    "version": 3
   },
   "file_extension": ".py",
   "mimetype": "text/x-python",
   "name": "python",
   "nbconvert_exporter": "python",
   "pygments_lexer": "ipython3",
   "version": "3.6.5"
  },
  "toc": {
   "base_numbering": 1,
   "nav_menu": {},
   "number_sections": true,
   "sideBar": true,
   "skip_h1_title": false,
   "title_cell": "Table of Contents",
   "title_sidebar": "Contents",
   "toc_cell": true,
   "toc_position": {},
   "toc_section_display": true,
   "toc_window_display": false
  }
 },
 "nbformat": 4,
 "nbformat_minor": 2
}
